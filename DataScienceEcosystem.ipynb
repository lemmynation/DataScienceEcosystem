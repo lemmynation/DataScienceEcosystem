{
 "cells": [
  {
   "cell_type": "markdown",
   "id": "381b2fdf",
   "metadata": {},
   "source": [
    "# Data Science Tools and Ecosystem"
   ]
  },
  {
   "cell_type": "markdown",
   "id": "00ea71a2",
   "metadata": {},
   "source": [
    "In this notebook, Data Science Tools and Ecosystem are summarized."
   ]
  },
  {
   "cell_type": "markdown",
   "id": "1a7e49d0",
   "metadata": {},
   "source": [
    "**Objectives:**\n",
    "\n",
    "- List popular languages for Data Science.\n",
    "- Commonly used libraries used by Data Scientist\n",
    "- Few examples of evaluating arithmetic expressions in Python"
   ]
  },
  {
   "cell_type": "markdown",
   "id": "0bb7f8f8",
   "metadata": {},
   "source": [
    "Some of the popular languages that Data Scientists use are:\n",
    "\n",
    "- Python\n",
    "- R\n",
    "- Julia"
   ]
  },
  {
   "cell_type": "markdown",
   "id": "842d1263",
   "metadata": {},
   "source": [
    "Some of the commonly used libraries used by Data Scientist include:\n",
    "\n",
    "- Pandas\n",
    "- Scipy\n",
    "- Numpy\n",
    "\n"
   ]
  },
  {
   "cell_type": "markdown",
   "id": "a5ba7f2b",
   "metadata": {},
   "source": [
    "Data Science Tools | Usage | Supporting Platforms \n",
    "---- | ---- | ---- |\n",
    "Tableau | Data Visualization and reporting | Windows, Linux, macOS\n",
    "TensorFlow | Building and deploying machine learning models. | Cross-platform(Linux, Windows, macOS)\n",
    "BigML | Cloud-based machine learning platform. | Web-based platform, accessible from any modern browser.\n",
    "\n",
    "\n"
   ]
  },
  {
   "cell_type": "markdown",
   "id": "8a98dcef",
   "metadata": {},
   "source": [
    "### Below are a few examples of evaluating arithmetic expressions in Python\n",
    "\n",
    "- (+)\n",
    "- (-)\n",
    "- (/)\n",
    "- (%)\n",
    "- (*)\n"
   ]
  },
  {
   "cell_type": "markdown",
   "id": "38cbafe5",
   "metadata": {},
   "source": [
    "This is a simple arithmetic expression to multiply then add integers."
   ]
  },
  {
   "cell_type": "code",
   "execution_count": 3,
   "id": "d3459faf",
   "metadata": {},
   "outputs": [
    {
     "data": {
      "text/plain": [
       "17"
      ]
     },
     "execution_count": 3,
     "metadata": {},
     "output_type": "execute_result"
    }
   ],
   "source": [
    "(3*4) + 5"
   ]
  },
  {
   "cell_type": "markdown",
   "id": "11e486ba",
   "metadata": {},
   "source": [
    "This will convert 200 minutes to hours by dividing by 60."
   ]
  },
  {
   "cell_type": "code",
   "execution_count": 6,
   "id": "99b86665",
   "metadata": {},
   "outputs": [
    {
     "name": "stdout",
     "output_type": "stream",
     "text": [
      "3\n"
     ]
    }
   ],
   "source": [
    "minutes = 200\n",
    "hours = 60\n",
    "\n",
    "convert_to_hours = minutes / hours\n",
    "\n",
    "print(int(convert_to_hours))"
   ]
  },
  {
   "cell_type": "markdown",
   "id": "08dce79c",
   "metadata": {},
   "source": [
    "## Author\n",
    "Lem"
   ]
  },
  {
   "cell_type": "code",
   "execution_count": null,
   "id": "bfdaff68",
   "metadata": {},
   "outputs": [],
   "source": []
  }
 ],
 "metadata": {
  "kernelspec": {
   "display_name": "Python 3 (ipykernel)",
   "language": "python",
   "name": "python3"
  },
  "language_info": {
   "codemirror_mode": {
    "name": "ipython",
    "version": 3
   },
   "file_extension": ".py",
   "mimetype": "text/x-python",
   "name": "python",
   "nbconvert_exporter": "python",
   "pygments_lexer": "ipython3",
   "version": "3.11.4"
  }
 },
 "nbformat": 4,
 "nbformat_minor": 5
}
